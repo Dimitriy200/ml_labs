{
  "cells": [
    {
      "cell_type": "markdown",
      "metadata": {
        "id": "-zogdsb_ycuX"
      },
      "source": [
        "## Лабораторная работа № 1\n",
        "### Изучение принципов работы байесовских сетей c использованием фреймворка Pyro и библиотеки ArviZ\n",
        "\n",
        "#### Задачи работы:\n",
        "1. Познакомиться с байесовским моделированием и организацией байесовских сетей.\n",
        "2. Изучить принципы создания байесовских моделей для решения стандартных задач машинного обучения.\n",
        "3. Познакомиться с байесовским подходом к заполнению пропусков в данных.\n",
        "4. Получить навыки создания и обучения моделей, а также получения результатов предсказания на их основе, с использованием фреймворка Pyro.\n",
        "5. Получить навыки интерпретации байесовских моделей с использованием библиотеки ArviZ."
      ]
    },
    {
      "cell_type": "markdown",
      "metadata": {
        "id": "nngijmyx0Cy6"
      },
      "source": [
        "Устанавливаем фреймворк вероятностного программирования [Pyro](https://pyro.ai/):"
      ]
    },
    {
      "cell_type": "code",
      "execution_count": null,
      "metadata": {
        "id": "VBQ_gYTpQL4V"
      },
      "outputs": [],
      "source": [
        "!pip install pyro-ppl"
      ]
    },
    {
      "cell_type": "markdown",
      "metadata": {
        "id": "mRTzVSQf0g7s"
      },
      "source": [
        "Подключаем библиотеки анализа и визуализации данных, необходимые в процессе работы."
      ]
    },
    {
      "cell_type": "code",
      "execution_count": 1,
      "metadata": {
        "id": "TlPMP0efQn0Y"
      },
      "outputs": [
        {
          "name": "stderr",
          "output_type": "stream",
          "text": [
            "d:\\Рабочая папка\\Sience\\ML_labs\\venv\\Lib\\site-packages\\tqdm\\auto.py:21: TqdmWarning: IProgress not found. Please update jupyter and ipywidgets. See https://ipywidgets.readthedocs.io/en/stable/user_install.html\n",
            "  from .autonotebook import tqdm as notebook_tqdm\n"
          ]
        }
      ],
      "source": [
        "import numpy as np\n",
        "import pandas as pd\n",
        "import matplotlib.pyplot as plt\n",
        "import seaborn as sns\n",
        "import arviz as az\n",
        "import torch\n",
        "import pyro\n",
        "from pyro import distributions as dist\n",
        "from pyro.infer import MCMC, NUTS, Predictive\n",
        "from sklearn.compose import ColumnTransformer\n",
        "from sklearn.preprocessing import OrdinalEncoder, StandardScaler\n",
        "\n",
        "%matplotlib inline"
      ]
    },
    {
      "cell_type": "markdown",
      "metadata": {
        "id": "A5JinnHZ1Nle"
      },
      "source": [
        "Уточняем версию фреймворка Pyro. На момент написания работы, самая свежая версия -- __1.9.1__."
      ]
    },
    {
      "cell_type": "code",
      "execution_count": 2,
      "metadata": {
        "id": "HahWs79fRHad"
      },
      "outputs": [
        {
          "data": {
            "text/plain": [
              "'1.9.1'"
            ]
          },
          "execution_count": 2,
          "metadata": {},
          "output_type": "execute_result"
        }
      ],
      "source": [
        "pyro.__version__"
      ]
    },
    {
      "cell_type": "markdown",
      "metadata": {
        "id": "GAKWs4B1KHBh"
      },
      "source": [
        "В работе анализируется датасет [Credit Risk Dataset](https://www.kaggle.com/datasets/laotse/credit-risk-dataset), который содержит информацию о клиентах, получивших кредит.\n",
        "\n",
        "Данный датасет был разделен на две части (train и predict), предназначенные для обучения байесовской модели и получения по ней предсказаний соответственно.\n",
        "\n",
        "Скачиваем [тренировочный](https://drive.google.com/file/d/1HnBdQodlt3MyAd6NVw0qOKxQYVbc7X8s/view?usp=sharing) и [тестовый](https://drive.google.com/file/d/1n9XjptSj8j4BL1gFwxXBFN69MtjsSPQE/view?usp=sharing) датасеты в локальную папку.\n",
        "\n",
        "Загрузим датасет для обучения модели и посмотрим на него."
      ]
    },
    {
      "cell_type": "code",
      "execution_count": null,
      "metadata": {
        "id": "OPduBt7yJlhR"
      },
      "outputs": [],
      "source": [
        "!gdown 1HnBdQodlt3MyAd6NVw0qOKxQYVbc7X8s\n",
        "!gdown 1n9XjptSj8j4BL1gFwxXBFN69MtjsSPQE"
      ]
    },
    {
      "cell_type": "code",
      "execution_count": null,
      "metadata": {
        "id": "FGlGNWyDRkke"
      },
      "outputs": [],
      "source": [
        "df_train_name = \"/content/credit_risk_dataset_train.csv\"\n",
        "df_train = pd.read_csv(df_train_name)\n",
        "df_train"
      ]
    },
    {
      "cell_type": "code",
      "execution_count": 4,
      "metadata": {},
      "outputs": [
        {
          "data": {
            "text/html": [
              "<div>\n",
              "<style scoped>\n",
              "    .dataframe tbody tr th:only-of-type {\n",
              "        vertical-align: middle;\n",
              "    }\n",
              "\n",
              "    .dataframe tbody tr th {\n",
              "        vertical-align: top;\n",
              "    }\n",
              "\n",
              "    .dataframe thead th {\n",
              "        text-align: right;\n",
              "    }\n",
              "</style>\n",
              "<table border=\"1\" class=\"dataframe\">\n",
              "  <thead>\n",
              "    <tr style=\"text-align: right;\">\n",
              "      <th></th>\n",
              "      <th>Platform</th>\n",
              "      <th>Owner</th>\n",
              "      <th>Primary Usage</th>\n",
              "      <th>Country</th>\n",
              "      <th>Daily Time Spent (min)</th>\n",
              "      <th>Verified Account</th>\n",
              "      <th>Date Joined</th>\n",
              "    </tr>\n",
              "  </thead>\n",
              "  <tbody>\n",
              "    <tr>\n",
              "      <th>0</th>\n",
              "      <td>WhatsApp</td>\n",
              "      <td>Meta</td>\n",
              "      <td>Messaging</td>\n",
              "      <td>Switzerland</td>\n",
              "      <td>113.94</td>\n",
              "      <td>Yes</td>\n",
              "      <td>2019-03-03</td>\n",
              "    </tr>\n",
              "    <tr>\n",
              "      <th>1</th>\n",
              "      <td>WeChat</td>\n",
              "      <td>Tencent</td>\n",
              "      <td>Messaging and social media</td>\n",
              "      <td>Madagascar</td>\n",
              "      <td>49.63</td>\n",
              "      <td>Yes</td>\n",
              "      <td>2023-09-21</td>\n",
              "    </tr>\n",
              "    <tr>\n",
              "      <th>2</th>\n",
              "      <td>Snapchat</td>\n",
              "      <td>Snap Inc.</td>\n",
              "      <td>Multimedia messaging</td>\n",
              "      <td>Pitcairn Islands</td>\n",
              "      <td>29.01</td>\n",
              "      <td>Yes</td>\n",
              "      <td>2020-12-13</td>\n",
              "    </tr>\n",
              "    <tr>\n",
              "      <th>3</th>\n",
              "      <td>Instagram</td>\n",
              "      <td>Meta</td>\n",
              "      <td>Photo and video sharing</td>\n",
              "      <td>Timor-Leste</td>\n",
              "      <td>295.43</td>\n",
              "      <td>Yes</td>\n",
              "      <td>2019-04-21</td>\n",
              "    </tr>\n",
              "    <tr>\n",
              "      <th>4</th>\n",
              "      <td>Threads</td>\n",
              "      <td>Meta</td>\n",
              "      <td>Text-based social networking</td>\n",
              "      <td>Bermuda</td>\n",
              "      <td>71.78</td>\n",
              "      <td>No</td>\n",
              "      <td>2015-07-14</td>\n",
              "    </tr>\n",
              "    <tr>\n",
              "      <th>...</th>\n",
              "      <td>...</td>\n",
              "      <td>...</td>\n",
              "      <td>...</td>\n",
              "      <td>...</td>\n",
              "      <td>...</td>\n",
              "      <td>...</td>\n",
              "      <td>...</td>\n",
              "    </tr>\n",
              "    <tr>\n",
              "      <th>9995</th>\n",
              "      <td>Pinterest</td>\n",
              "      <td>Pinterest Inc.</td>\n",
              "      <td>Visual discovery and bookmarking</td>\n",
              "      <td>Morocco</td>\n",
              "      <td>249.12</td>\n",
              "      <td>No</td>\n",
              "      <td>2024-04-23</td>\n",
              "    </tr>\n",
              "    <tr>\n",
              "      <th>9996</th>\n",
              "      <td>Reddit</td>\n",
              "      <td>Reddit Inc.</td>\n",
              "      <td>Discussion forums and communities</td>\n",
              "      <td>Cape Verde</td>\n",
              "      <td>111.38</td>\n",
              "      <td>Yes</td>\n",
              "      <td>2017-03-06</td>\n",
              "    </tr>\n",
              "    <tr>\n",
              "      <th>9997</th>\n",
              "      <td>Quora</td>\n",
              "      <td>Quora Inc.</td>\n",
              "      <td>Q&amp;A knowledge sharing</td>\n",
              "      <td>Poland</td>\n",
              "      <td>87.88</td>\n",
              "      <td>No</td>\n",
              "      <td>2018-05-17</td>\n",
              "    </tr>\n",
              "    <tr>\n",
              "      <th>9998</th>\n",
              "      <td>Quora</td>\n",
              "      <td>Quora Inc.</td>\n",
              "      <td>Q&amp;A knowledge sharing</td>\n",
              "      <td>Lao People's Democratic Republic</td>\n",
              "      <td>205.69</td>\n",
              "      <td>Yes</td>\n",
              "      <td>2019-10-07</td>\n",
              "    </tr>\n",
              "    <tr>\n",
              "      <th>9999</th>\n",
              "      <td>Reddit</td>\n",
              "      <td>Reddit Inc.</td>\n",
              "      <td>Discussion forums and communities</td>\n",
              "      <td>Faroe Islands</td>\n",
              "      <td>272.93</td>\n",
              "      <td>Yes</td>\n",
              "      <td>2015-08-03</td>\n",
              "    </tr>\n",
              "  </tbody>\n",
              "</table>\n",
              "<p>10000 rows × 7 columns</p>\n",
              "</div>"
            ],
            "text/plain": [
              "       Platform           Owner                      Primary Usage  \\\n",
              "0      WhatsApp            Meta                          Messaging   \n",
              "1        WeChat         Tencent         Messaging and social media   \n",
              "2      Snapchat       Snap Inc.               Multimedia messaging   \n",
              "3     Instagram            Meta            Photo and video sharing   \n",
              "4       Threads            Meta       Text-based social networking   \n",
              "...         ...             ...                                ...   \n",
              "9995  Pinterest  Pinterest Inc.   Visual discovery and bookmarking   \n",
              "9996     Reddit     Reddit Inc.  Discussion forums and communities   \n",
              "9997      Quora      Quora Inc.              Q&A knowledge sharing   \n",
              "9998      Quora      Quora Inc.              Q&A knowledge sharing   \n",
              "9999     Reddit     Reddit Inc.  Discussion forums and communities   \n",
              "\n",
              "                               Country  Daily Time Spent (min)  \\\n",
              "0                          Switzerland                  113.94   \n",
              "1                           Madagascar                   49.63   \n",
              "2                     Pitcairn Islands                   29.01   \n",
              "3                          Timor-Leste                  295.43   \n",
              "4                              Bermuda                   71.78   \n",
              "...                                ...                     ...   \n",
              "9995                           Morocco                  249.12   \n",
              "9996                        Cape Verde                  111.38   \n",
              "9997                            Poland                   87.88   \n",
              "9998  Lao People's Democratic Republic                  205.69   \n",
              "9999                     Faroe Islands                  272.93   \n",
              "\n",
              "     Verified Account Date Joined  \n",
              "0                 Yes  2019-03-03  \n",
              "1                 Yes  2023-09-21  \n",
              "2                 Yes  2020-12-13  \n",
              "3                 Yes  2019-04-21  \n",
              "4                  No  2015-07-14  \n",
              "...               ...         ...  \n",
              "9995               No  2024-04-23  \n",
              "9996              Yes  2017-03-06  \n",
              "9997               No  2018-05-17  \n",
              "9998              Yes  2019-10-07  \n",
              "9999              Yes  2015-08-03  \n",
              "\n",
              "[10000 rows x 7 columns]"
            ]
          },
          "execution_count": 4,
          "metadata": {},
          "output_type": "execute_result"
        }
      ],
      "source": [
        "df_train = pd.read_csv('data/Social Media Users.csv')\n",
        "df_train"
      ]
    },
    {
      "cell_type": "markdown",
      "metadata": {
        "id": "BhJVkfjvUY0i"
      },
      "source": [
        "Описание столбцов датасета представлено ниже."
      ]
    },
    {
      "cell_type": "markdown",
      "metadata": {
        "id": "FvPRplYDSIyP"
      },
      "source": [
        "|         **Признак**        |                    **Значение**                   |\n",
        "|:--------------------------:|:-------------------------------------------------:|\n",
        "| Platform                   | Наименование платформы                            |\n",
        "| Owner                      | Владелец платфрмы                                 |\n",
        "| Primary Usage              | Сфера в деятельности платформы                    |\n",
        "| Country                    | Регион, в котором находится ползователь           |\n",
        "| Daily Time Spent (min)     | Время, проведенное пользователем в сети в минутах |\n",
        "| Verified Account           | Подтвержденная уч. запись                         |\n",
        "| Date Joined                | Дата регистрации пользователя                     |"
      ]
    },
    {
      "cell_type": "markdown",
      "metadata": {
        "id": "kAU2L0ff2iFY"
      },
      "source": [
        "В датасете наблюдаются признаки:\n",
        "\n",
        "* **количественные**: Daily Time Spent\n",
        "* **категориальные**: Platform, Owner, Primary Usage, Country, Verified Account.\n",
        "* **дата**: Date Joined\n",
        "Взглянем на формат столбцов датасета."
      ]
    },
    {
      "cell_type": "code",
      "execution_count": 5,
      "metadata": {
        "id": "x5IbZXjk3tXL"
      },
      "outputs": [
        {
          "name": "stdout",
          "output_type": "stream",
          "text": [
            "<class 'pandas.core.frame.DataFrame'>\n",
            "RangeIndex: 10000 entries, 0 to 9999\n",
            "Data columns (total 7 columns):\n",
            " #   Column                  Non-Null Count  Dtype  \n",
            "---  ------                  --------------  -----  \n",
            " 0   Platform                10000 non-null  object \n",
            " 1   Owner                   10000 non-null  object \n",
            " 2   Primary Usage           10000 non-null  object \n",
            " 3   Country                 10000 non-null  object \n",
            " 4   Daily Time Spent (min)  10000 non-null  float64\n",
            " 5   Verified Account        10000 non-null  object \n",
            " 6   Date Joined             10000 non-null  object \n",
            "dtypes: float64(1), object(6)\n",
            "memory usage: 547.0+ KB\n"
          ]
        }
      ],
      "source": [
        "df_train.info()"
      ]
    },
    {
      "cell_type": "markdown",
      "metadata": {
        "id": "Z8Mw6BQz2oJZ"
      },
      "source": [
        "С целью упрощения анализа, оставим в датасете только некоторые столбцы."
      ]
    },
    {
      "cell_type": "code",
      "execution_count": null,
      "metadata": {
        "id": "a6yn0MtGm-uh"
      },
      "outputs": [],
      "source": [
        "df_train = df_train[\n",
        "    [\"person_age\", \"person_income\", \"person_home_ownership\", \"loan_intent\",\n",
        "     \"loan_amnt\", \"loan_int_rate\", \"cb_person_default_on_file\",\n",
        "     \"loan_status\"]\n",
        "]"
      ]
    },
    {
      "cell_type": "markdown",
      "metadata": {
        "id": "Q5hUrbHo22_E"
      },
      "source": [
        "Посмотрим, содержат ли столбцы пропущенные значения."
      ]
    },
    {
      "cell_type": "code",
      "execution_count": 6,
      "metadata": {
        "id": "O5XJZZTUTwoB"
      },
      "outputs": [
        {
          "data": {
            "text/plain": [
              "Platform                  0\n",
              "Owner                     0\n",
              "Primary Usage             0\n",
              "Country                   0\n",
              "Daily Time Spent (min)    0\n",
              "Verified Account          0\n",
              "Date Joined               0\n",
              "dtype: int64"
            ]
          },
          "execution_count": 6,
          "metadata": {},
          "output_type": "execute_result"
        }
      ],
      "source": [
        "df_train.isnull().sum()"
      ]
    },
    {
      "cell_type": "markdown",
      "metadata": {
        "id": "HEgMCDPv286W"
      },
      "source": [
        "Видно, процентная ставка указана не для всех клиентов. Пропущенные значения будем заполнять в дальнейшем __с применением байесовской модели__.\n",
        "\n",
        "Посмотрим на статистику данных."
      ]
    },
    {
      "cell_type": "code",
      "execution_count": 7,
      "metadata": {
        "id": "MfNkDkpQXi-Z"
      },
      "outputs": [
        {
          "data": {
            "text/html": [
              "<div>\n",
              "<style scoped>\n",
              "    .dataframe tbody tr th:only-of-type {\n",
              "        vertical-align: middle;\n",
              "    }\n",
              "\n",
              "    .dataframe tbody tr th {\n",
              "        vertical-align: top;\n",
              "    }\n",
              "\n",
              "    .dataframe thead th {\n",
              "        text-align: right;\n",
              "    }\n",
              "</style>\n",
              "<table border=\"1\" class=\"dataframe\">\n",
              "  <thead>\n",
              "    <tr style=\"text-align: right;\">\n",
              "      <th></th>\n",
              "      <th>Daily Time Spent (min)</th>\n",
              "    </tr>\n",
              "  </thead>\n",
              "  <tbody>\n",
              "    <tr>\n",
              "      <th>count</th>\n",
              "      <td>10000.000000</td>\n",
              "    </tr>\n",
              "    <tr>\n",
              "      <th>mean</th>\n",
              "      <td>152.211145</td>\n",
              "    </tr>\n",
              "    <tr>\n",
              "      <th>std</th>\n",
              "      <td>85.142750</td>\n",
              "    </tr>\n",
              "    <tr>\n",
              "      <th>min</th>\n",
              "      <td>5.020000</td>\n",
              "    </tr>\n",
              "    <tr>\n",
              "      <th>25%</th>\n",
              "      <td>78.920000</td>\n",
              "    </tr>\n",
              "    <tr>\n",
              "      <th>50%</th>\n",
              "      <td>152.735000</td>\n",
              "    </tr>\n",
              "    <tr>\n",
              "      <th>75%</th>\n",
              "      <td>225.642500</td>\n",
              "    </tr>\n",
              "    <tr>\n",
              "      <th>max</th>\n",
              "      <td>300.000000</td>\n",
              "    </tr>\n",
              "  </tbody>\n",
              "</table>\n",
              "</div>"
            ],
            "text/plain": [
              "       Daily Time Spent (min)\n",
              "count            10000.000000\n",
              "mean               152.211145\n",
              "std                 85.142750\n",
              "min                  5.020000\n",
              "25%                 78.920000\n",
              "50%                152.735000\n",
              "75%                225.642500\n",
              "max                300.000000"
            ]
          },
          "execution_count": 7,
          "metadata": {},
          "output_type": "execute_result"
        }
      ],
      "source": [
        "df_train.describe()"
      ]
    },
    {
      "cell_type": "code",
      "execution_count": null,
      "metadata": {
        "id": "25Ri8o-3Yo-R"
      },
      "outputs": [],
      "source": [
        "df_train.sort_values(by=\"person_age\", ascending=False).head(10)"
      ]
    },
    {
      "cell_type": "markdown",
      "metadata": {
        "id": "2xdptRos3voC"
      },
      "source": [
        "Посмотрим на количество значений категориальных признаков."
      ]
    },
    {
      "cell_type": "code",
      "execution_count": 9,
      "metadata": {
        "id": "cWDcN9WcVw-S"
      },
      "outputs": [
        {
          "name": "stdout",
          "output_type": "stream",
          "text": [
            "Verified Account\n",
            "No     5006\n",
            "Yes    4994\n",
            "Name: count, dtype: int64\n",
            "\n",
            "Country\n",
            "Congo                               82\n",
            "Korea                               78\n",
            "Botswana                            56\n",
            "Suriname                            55\n",
            "Armenia                             54\n",
            "                                    ..\n",
            "Russian Federation                  28\n",
            "Liechtenstein                       28\n",
            "Montenegro                          27\n",
            "Saint Kitts and Nevis               26\n",
            "Lao People's Democratic Republic    26\n",
            "Name: count, Length: 243, dtype: int64\n",
            "\n",
            "Primary Usage\n",
            "Messaging                            1375\n",
            "Discussion forums and communities     764\n",
            "Photo and video sharing               745\n",
            "Messaging and social media            742\n",
            "Text-based social networking          724\n",
            "Short-form videos                     716\n",
            "Professional networking               710\n",
            "Social networking                     709\n",
            "Video sharing                         709\n",
            "Microblogging                         706\n",
            "Visual discovery and bookmarking      704\n",
            "Multimedia messaging                  701\n",
            "Q&A knowledge sharing                 695\n",
            "Name: count, dtype: int64\n",
            "\n"
          ]
        }
      ],
      "source": [
        "for col in [\"Verified Account\",\n",
        "            \"Country\",\n",
        "            \"Primary Usage\"]:\n",
        "    print(df_train[col].value_counts(), end=\"\\n\\n\")"
      ]
    },
    {
      "cell_type": "markdown",
      "metadata": {
        "id": "uhHL5eHV48ms"
      },
      "source": [
        "Количество различных значений категориальных столбцов невелико, специальным образом обрабатывать их не нужно.\n",
        "\n",
        "Построим гистограммы количественных признаков."
      ]
    },
    {
      "cell_type": "code",
      "execution_count": 19,
      "metadata": {},
      "outputs": [
        {
          "name": "stdout",
          "output_type": "stream",
          "text": [
            "2\n",
            "243\n",
            "13\n"
          ]
        }
      ],
      "source": [
        "Verified_Account = df_train[\"Verified Account\"].nunique()\n",
        "Country = df_train[\"Country\"].nunique()\n",
        "Primary_Usage = df_train[\"Primary Usage\"].nunique()\n",
        "\n",
        "print(f'{Verified_Account}\\n{Country}\\n{Primary_Usage}')"
      ]
    },
    {
      "cell_type": "code",
      "execution_count": 12,
      "metadata": {
        "id": "GsgJ_1B4Ws2S"
      },
      "outputs": [
        {
          "data": {
            "text/plain": [
              "<Axes: >"
            ]
          },
          "execution_count": 12,
          "metadata": {},
          "output_type": "execute_result"
        },
        {
          "data": {
            "image/png": "[encoded data removed]",
            "text/plain": [
              "<Figure size 640x480 with 1 Axes>"
            ]
          },
          "metadata": {},
          "output_type": "display_data"
        }
      ],
      "source": [
        "df_train[\"Verified Account\"].hist()"
      ]
    },
    {
      "cell_type": "code",
      "execution_count": 15,
      "metadata": {
        "id": "t5-stcHegCsL"
      },
      "outputs": [
        {
          "data": {
            "text/plain": [
              "<Axes: >"
            ]
          },
          "execution_count": 15,
          "metadata": {},
          "output_type": "execute_result"
        },
        {
          "data": {
            "image/png": "[encoded data removed]",
            "text/plain": [
              "<Figure size 640x480 with 1 Axes>"
            ]
          },
          "metadata": {},
          "output_type": "display_data"
        }
      ],
      "source": [
        "df_train[\"Country\"].hist(bins=1000)"
      ]
    },
    {
      "cell_type": "code",
      "execution_count": 14,
      "metadata": {
        "id": "KnLqT6NegiEV"
      },
      "outputs": [
        {
          "data": {
            "text/plain": [
              "<Axes: >"
            ]
          },
          "execution_count": 14,
          "metadata": {},
          "output_type": "execute_result"
        },
        {
          "data": {
            "image/png": "[encoded data removed]",
            "text/plain": [
              "<Figure size 640x480 with 1 Axes>"
            ]
          },
          "metadata": {},
          "output_type": "display_data"
        }
      ],
      "source": [
        "df_train[\"Primary Usage\"].hist(bins=100)"
      ]
    },
    {
      "cell_type": "code",
      "execution_count": null,
      "metadata": {
        "id": "fgRUfVgIgKrn"
      },
      "outputs": [],
      "source": [
        "df_train[df_train[\"person_income\"] < 500000][\"person_income\"].hist(bins=100)"
      ]
    },
    {
      "cell_type": "markdown",
      "metadata": {
        "id": "qgrXd6Z75Rnu"
      },
      "source": [
        "Приведем типы столбцов датасета к корректным."
      ]
    },
    {
      "cell_type": "code",
      "execution_count": null,
      "metadata": {
        "id": "J76iDXMXLMGf"
      },
      "outputs": [],
      "source": [
        "person_home_ownership_cat = pd.CategoricalDtype(\n",
        "    categories=[\"RENT\", \"MORTGAGE\", \"OWN\", \"OTHER\"],\n",
        "    ordered=False\n",
        ")\n",
        "\n",
        "loan_intent_cat = pd.CategoricalDtype(\n",
        "    categories=[\"EDUCATION\", \"MEDICAL\", \"VENTURE\", \"PERSONAL\",\n",
        "                \"DEBTCONSOLIDATION\", \"HOMEIMPROVEMENT\"],\n",
        "    ordered=False\n",
        ")\n",
        "\n",
        "cb_person_default_on_file_cat = pd.CategoricalDtype(\n",
        "    categories=[\"N\", \"Y\"],\n",
        "    ordered=False\n",
        ")"
      ]
    },
    {
      "cell_type": "code",
      "execution_count": null,
      "metadata": {
        "id": "PF6Q601c3GoY"
      },
      "outputs": [],
      "source": [
        "df_train = df_train.astype(\n",
        "    {\n",
        "        \"person_age\": np.float64,\n",
        "        \"person_income\": np.float64,\n",
        "        \"person_home_ownership\": person_home_ownership_cat,\n",
        "        \"loan_intent\": loan_intent_cat,\n",
        "        \"loan_amnt\": np.float64,\n",
        "        \"loan_int_rate\": np.float64,\n",
        "        \"cb_person_default_on_file\": cb_person_default_on_file_cat,\n",
        "        \"loan_status\": np.int64\n",
        "    }\n",
        ")\n",
        "\n",
        "df_train.info()"
      ]
    },
    {
      "cell_type": "markdown",
      "metadata": {
        "id": "c_uBqpfu5amT"
      },
      "source": [
        "Выполним кодирование категориальных признаков и стандартизацию количественных.\n",
        "\n",
        "Признак с процентной ставкой, пустые значения в котором будем заполнять с помощью байесовской модели, оставим без изменений."
      ]
    },
    {
      "cell_type": "code",
      "execution_count": null,
      "metadata": {
        "id": "dKvzxRCG-t_o"
      },
      "outputs": [],
      "source": [
        "num_features = [\"person_age\", \"person_income\", \"loan_amnt\"]\n",
        "cat_features = [\"person_home_ownership\", \"loan_intent\",\n",
        "                \"cb_person_default_on_file\"]\n",
        "\n",
        "column_transformer = ColumnTransformer([\n",
        "    (\"cat_transformer\", OrdinalEncoder(dtype='int'), cat_features),\n",
        "    (\"num_transformer\", StandardScaler(), num_features)\n",
        "], remainder='passthrough', verbose_feature_names_out=False)"
      ]
    },
    {
      "cell_type": "code",
      "execution_count": null,
      "metadata": {
        "id": "QJR_JDKzAL1I"
      },
      "outputs": [],
      "source": [
        "column_transformer.set_output(transform=\"pandas\")\n",
        "df_train = column_transformer.fit_transform(df_train)\n",
        "df_train"
      ]
    },
    {
      "cell_type": "markdown",
      "metadata": {
        "id": "aD1Ojr9cBTJF"
      },
      "source": [
        "Создадим функцию, преобразующую данные в датафрейме в тензоры PyTorch."
      ]
    },
    {
      "cell_type": "code",
      "execution_count": null,
      "metadata": {
        "id": "J8fYdyuH8wYB"
      },
      "outputs": [],
      "source": [
        "def convert_df_to_tensors(data: pd.DataFrame) -> dict[str, torch.Tensor]:\n",
        "    tensors: dict[str, torch.Tensor] = {}\n",
        "    for column in data.columns:\n",
        "        tensors[column] = torch.tensor(data[column].values)\n",
        "    return tensors"
      ]
    },
    {
      "cell_type": "markdown",
      "metadata": {
        "id": "HchSeQp76HTz"
      },
      "source": [
        "Поставим __задачу классификации__ следующим образом: предсказать вероятность возврата кредита клиентом по его характеристикам, представленным в датасете. Одновременно с решением задачи классификации следует заполнить пропуски в столбце \"Процентная ставка\". Требуется визуализовать априорные и апостериорные распределения коэффициентов байесовской модели, а также распределение целевой переменной для произвольного объекта тестового датасета."
      ]
    },
    {
      "cell_type": "markdown",
      "metadata": {
        "id": "T7UF8878j1pe"
      },
      "source": [
        "Байесовскую модель зададим следующим образом. Курсивом обозначены случайные переменные, прямым шрифтом -- признаки из датасета.\n",
        "\n",
        "$p(loan\\_status, loan\\_int\\_rate, b\\_person\\_age, b\\_person\\_income, b\\_loan\\_amnt, b\\_loan\\_int\\_rate, b\\_person\\_home\\_ownership, b\\_loan\\_intent, b\\_cb\\_person\\_default\\_on\\_file, mu\\_loan\\_int\\_rate, std\\_loan\\_int\\_rate) = p(loan\\_status, loan\\_int\\_rate \\; | \\; b\\_person\\_age, b\\_person\\_income, b\\_loan\\_amnt, b\\_loan\\_int\\_rate, b\\_person\\_home\\_ownership, b\\_loan\\_intent, b\\_cb\\_person\\_default\\_on\\_file, mu\\_loan\\_int\\_rate, std\\_loan\\_int\\_rate) \\cdot p(mu\\_loan\\_int\\_rate) \\cdot p(std\\_loan\\_int\\_rate) \\cdot p(b\\_person\\_age) \\cdot p(b\\_person\\_income) \\cdot p(b\\_loan\\_amnt) \\cdot p(b\\_loan\\_int\\_rate) \\cdot p(b\\_person\\_home\\_ownership) \\cdot p(b\\_loan\\_intent) \\cdot p(b\\_cb\\_person\\_default\\_on\\_file)$\n",
        "\n",
        "<p>&nbsp;</p>\n",
        "\n",
        "$p(loan\\_status, loan\\_int\\_rate \\; | \\; loan\\_int\\_rate, b\\_person\\_age, b\\_person\\_income, b\\_loan\\_amnt, b\\_loan\\_int\\_rate, b\\_person\\_home\\_ownership, b\\_loan\\_intent, b\\_cb\\_person\\_default\\_on\\_file, mu\\_loan\\_int\\_rate, std\\_loan\\_int\\_rate) = \\prod_{i=1}^{N} p(loan\\_status_i \\; | \\; loan\\_int\\_rate, b\\_person\\_age, b\\_person\\_income, b\\_loan\\_amnt, b\\_loan\\_int\\_rate, b\\_person\\_home\\_ownership, b\\_loan\\_intent, b\\_cb\\_person\\_default\\_on\\_file) \\cdot p(loan\\_int\\_rate_i \\; | \\; mu\\_loan\\_int\\_rate, std\\_loan\\_int\\_rate)$\n",
        "\n",
        "<p>&nbsp;</p>\n",
        "\n",
        "$p(loan\\_status_i \\; | \\; loan\\_int\\_rate, b\\_person\\_age, b\\_person\\_income, b\\_loan\\_amnt, b\\_loan\\_int\\_rate, b\\_person\\_home\\_ownership, b\\_loan\\_intent, b\\_cb\\_person\\_default\\_on\\_file) = \\mathcal B \\left[ {\\sigma(logits_i)} \\right]$\n",
        "\n",
        "<p>&nbsp;</p>\n",
        "\n",
        "$logits_i = b\\_person\\_age \\cdot \\text{person_age}_i + b\\_person\\_income \\cdot \\text{person_income}_i + b\\_loan\\_amnt \\cdot \\text{loan_amnt}_i + b\\_person\\_home\\_ownership_{\\text{person_home_ownership}_i} + b\\_loan\\_intent_{\\text{loan_intent}_i} + b\\_cb\\_person\\_default\\_on\\_file_{\\text{b_cb_person_default_on_file}_i} + b\\_loan\\_int\\_rate \\cdot loan\\_int\\_rate_i$\n",
        "\n",
        "<p>&nbsp;</p>\n",
        "\n",
        "$p(loan\\_int\\_rate_i \\; | \\; mu\\_loan\\_int\\_rate, std\\_loan\\_int\\_rate) = \\mathcal{N}(mu\\_loan\\_int\\_rate, \\, std\\_loan\\_int\\_rate)$\n",
        "\n",
        "<p>&nbsp;</p>\n",
        "\n",
        "$b\\_person\\_age \\sim \\mathcal{N}(0,\\,1)$\n",
        "\n",
        "$b\\_person\\_income \\sim \\mathcal{N}(0,\\,1)$\n",
        "\n",
        "$b\\_loan\\_amnt \\sim \\mathcal{N}(0,\\,1)$\n",
        "\n",
        "$b\\_loan\\_int\\_rate \\sim \\mathcal{N}(0,\\,1)$\n",
        "\n",
        "$b\\_person\\_home\\_ownership_i \\sim \\mathcal{N}(0,\\,1), \\: i \\in [0,\\,3]$\n",
        "\n",
        "$b\\_loan\\_intent_i \\sim \\mathcal{N}(0,\\,1), \\: i \\in [0,\\,5]$\n",
        "\n",
        "$b\\_cb\\_person\\_default\\_on\\_file_i \\sim \\mathcal{N}(0,\\,1), \\: i \\in [0,\\,1]$\n",
        "\n",
        "$mu\\_loan\\_int\\_rate \\sim \\mathcal{N}(0,\\,1)$\n",
        "\n",
        "$std\\_loan\\_int\\_rate \\sim |\\mathcal{N}(0,\\,1)|$\n",
        "\n",
        "<p>&nbsp;</p>\n",
        "\n",
        "Переменная $loan\\_int\\_rate$ считается __наблюдаемой__ со значениями:\n",
        "\n",
        "$loan\\_int\\_rate_i \\sim \\begin{cases}\n",
        "    \\delta(\\text{loan_int_rate}_i) & \\text{if loan_int_rate$_i$ is not None}, \\\\\n",
        "    impute\\_loan\\_int\\_rate(mu\\_loan\\_int\\_rate,\\,std\\_loan\\_int\\_rate) & \\text{otherwise}.\n",
        "\\end{cases}\n",
        "$\n",
        "\n",
        "Здесь $impute\\_loan\\_int\\_rate = \\mathcal{N}(mu\\_loan\\_int\\_rate,\\,std\\_loan\\_int\\_rate)$ -- вспомогательная случайная переменная, предназначенная для \"замены\" отсутствующего значения loan_int_rate.\n"
      ]
    },
    {
      "cell_type": "markdown",
      "metadata": {
        "id": "RaePk739xB3r"
      },
      "source": [
        "Определим __модель__ в виде следующей функции."
      ]
    },
    {
      "cell_type": "code",
      "execution_count": null,
      "metadata": {
        "id": "LXuZLeuD9lR6"
      },
      "outputs": [],
      "source": [
        "def model(data: dict[str, torch.Tensor], is_training: bool = False) -> None:\n",
        "    b_person_age = pyro.sample(\"b_person_age\", dist.Normal(0, 1))\n",
        "    b_person_income = pyro.sample(\"b_person_income\", dist.Normal(0, 1))\n",
        "    b_loan_amnt = pyro.sample(\"b_loan_amnt\", dist.Normal(0, 1))\n",
        "    b_loan_int_rate = pyro.sample(\"b_loan_int_rate\", dist.Normal(0, 1))\n",
        "\n",
        "    logits = b_person_age * data[\"person_age\"]\n",
        "    logits += b_person_income * data[\"person_income\"]\n",
        "    logits += b_loan_amnt * data[\"loan_amnt\"]\n",
        "\n",
        "    mu_loan_int_rate = pyro.sample(\"mu_loan_int_rate\", dist.Normal(0, 1))\n",
        "    std_loan_int_rate = pyro.sample(\"std_loan_int_rate\", dist.HalfNormal(1))\n",
        "\n",
        "    impute_loan_int_rate = pyro.sample(\n",
        "        \"impute_loan_int_rate\", dist.Normal(\n",
        "            mu_loan_int_rate,\n",
        "            std_loan_int_rate\n",
        "        ).mask(False)\n",
        "    )\n",
        "\n",
        "    loan_int_rate = data[\"loan_int_rate\"]\n",
        "    loan_int_rate = torch.where(torch.isnan(loan_int_rate),\n",
        "                                impute_loan_int_rate,\n",
        "                                loan_int_rate)\n",
        "\n",
        "\n",
        "    logits += b_loan_int_rate * loan_int_rate\n",
        "\n",
        "    b_person_home_ownership = pyro.sample(\"b_person_home_ownership\",\n",
        "                                          dist.Normal(0, 1).expand([4]))\n",
        "    b_loan_intent = pyro.sample(\"b_loan_intent\", dist.Normal(0, 1).expand([6]))\n",
        "    b_cb_person_default_on_file = pyro.sample(\"b_cb_person_default_on_file\",\n",
        "                                              dist.Normal(0, 1).expand([2]))\n",
        "\n",
        "    logits += b_person_home_ownership[data[\"person_home_ownership\"]]\n",
        "    logits += b_loan_intent[data[\"loan_intent\"]]\n",
        "    logits += b_cb_person_default_on_file[\n",
        "        data[\"cb_person_default_on_file\"]]\n",
        "\n",
        "    obs = None if not is_training else data[\"loan_status\"].float()\n",
        "\n",
        "    with pyro.plate(\"N\", data[\"loan_status\"].shape[0]):\n",
        "        pyro.sample(\"loan_int_rate\",\n",
        "                    dist.Normal(mu_loan_int_rate, std_loan_int_rate),\n",
        "                    obs=loan_int_rate)\n",
        "        pyro.sample(\"loan_status\",\n",
        "                    dist.Bernoulli(logits=logits),\n",
        "                    obs=obs)"
      ]
    },
    {
      "cell_type": "markdown",
      "metadata": {
        "id": "sTkAwYHU70Ib"
      },
      "source": [
        "Визуализируем графическую вероятностную модель, соответствующую совместному распределению данных и весов."
      ]
    },
    {
      "cell_type": "code",
      "execution_count": null,
      "metadata": {
        "id": "NbrSzlXv-pfm"
      },
      "outputs": [],
      "source": [
        "pyro.render_model(model,\n",
        "                  model_args=(convert_df_to_tensors(df_train), True),\n",
        "                  render_distributions=True,\n",
        "                  render_params=True)"
      ]
    },
    {
      "cell_type": "markdown",
      "metadata": {
        "id": "kmazHQcS79o8"
      },
      "source": [
        "Посмотрим на форму всех переменных в модели."
      ]
    },
    {
      "cell_type": "code",
      "execution_count": null,
      "metadata": {
        "id": "p_GnCsaA0DLX"
      },
      "outputs": [],
      "source": [
        "trace = pyro.poutine.trace(model).get_trace(\n",
        "    convert_df_to_tensors(df_train), True)\n",
        "print(trace.format_shapes())"
      ]
    },
    {
      "cell_type": "markdown",
      "metadata": {
        "id": "sq2hHdeN8DZT"
      },
      "source": [
        "Выполним **инференс модели** с использованием марковских последовательностей Монте-Карло (MCMC).\n",
        "\n",
        "Данная процедура выполняет нахождение апостериорного распределения весов модели, многократно сэмплируя из совместного распределения и приводя распределение сэмплов к апостериорному распределению весов.\n",
        "\n",
        "Процедура сэмплирования может быть __достаточно длительной__."
      ]
    },
    {
      "cell_type": "code",
      "execution_count": null,
      "metadata": {
        "id": "upMB6x9OTTma"
      },
      "outputs": [],
      "source": [
        "num_of_samples = 400\n",
        "burn_in_samples = 100\n",
        "\n",
        "mcmc = MCMC(NUTS(model, jit_compile=True),\n",
        "            num_samples=num_of_samples, warmup_steps=burn_in_samples)\n",
        "mcmc.run(convert_df_to_tensors(df_train), True)\n",
        "mcmc.summary()"
      ]
    },
    {
      "cell_type": "markdown",
      "metadata": {
        "id": "kXNKjkg-9qbT"
      },
      "source": [
        "После выполнения процедуры сэмплирования проверьте значения в сводке параметров:\n",
        "* n_eff: должен быть близок к количеству семплов, определяет степень скоррелированности полученных семплов;\n",
        "* r_hat: должен быть близким к единице, что указывает на сходимость метода.\n",
        "\n",
        "Получить сэмплы из апостериорного распределения весов можно следующим образом:"
      ]
    },
    {
      "cell_type": "code",
      "execution_count": null,
      "metadata": {
        "id": "PbVOSaYYBCDK"
      },
      "outputs": [],
      "source": [
        "posterior_samples = mcmc.get_samples()\n",
        "posterior_samples"
      ]
    },
    {
      "cell_type": "markdown",
      "metadata": {
        "id": "ZOIW3fBO-B2B"
      },
      "source": [
        "После выполнения инференса займёмся процедурой __предсказания__ с использованием обученной модели.\n",
        "\n",
        "Загрузим датасет с тестовыми данными и посмотрим на него."
      ]
    },
    {
      "cell_type": "code",
      "execution_count": null,
      "metadata": {
        "id": "VBwSghjgLrkN"
      },
      "outputs": [],
      "source": [
        "df_predict_name = \"/content/credit_risk_dataset_predict.csv\"\n",
        "df_predict = pd.read_csv(df_predict_name)\n",
        "df_predict"
      ]
    },
    {
      "cell_type": "markdown",
      "metadata": {
        "id": "uoSKLQo4-Snw"
      },
      "source": [
        "Выполним над тестовым датасетом те же преобразования признаков, что и над тренировочным:"
      ]
    },
    {
      "cell_type": "code",
      "execution_count": null,
      "metadata": {
        "id": "_n35cYRLLrmq"
      },
      "outputs": [],
      "source": [
        "df_predict = column_transformer.transform(df_predict)\n",
        "df_predict"
      ]
    },
    {
      "cell_type": "markdown",
      "metadata": {
        "id": "g3KhzbQ3-jDr"
      },
      "source": [
        "Получим распределение наблюдаемых переменных для каждого объекта из тестовой выборки с использованием апостериорных распределений весов (полученных после обучения модели)."
      ]
    },
    {
      "cell_type": "code",
      "execution_count": null,
      "metadata": {
        "id": "7AHD6s9ZBLbZ"
      },
      "outputs": [],
      "source": [
        "posterior_predictive = Predictive(model, posterior_samples)(\n",
        "    convert_df_to_tensors(df_predict))\n",
        "posterior_predictive"
      ]
    },
    {
      "cell_type": "markdown",
      "metadata": {
        "id": "8XTuunns_6WT"
      },
      "source": [
        "Получим распределение наблюдаемых переменных для каждого объекта из тестовой выборки с использованием априорных распределений весов (полученных до обучения модели)."
      ]
    },
    {
      "cell_type": "code",
      "execution_count": null,
      "metadata": {
        "id": "MavH9DquCcH3"
      },
      "outputs": [],
      "source": [
        "prior = Predictive(model, num_samples=num_of_samples)(\n",
        "    convert_df_to_tensors(df_predict))\n",
        "prior"
      ]
    },
    {
      "cell_type": "markdown",
      "metadata": {
        "id": "kbbelKnIABZM"
      },
      "source": [
        "Сформируем данные для визуализации с помощью библиотеки [ArViZ](https://python.arviz.org/en/stable/)."
      ]
    },
    {
      "cell_type": "code",
      "execution_count": null,
      "metadata": {
        "id": "Chh9k34UC-GN"
      },
      "outputs": [],
      "source": [
        "pyro_data = az.from_pyro(\n",
        "    mcmc, prior=prior, posterior_predictive=posterior_predictive\n",
        ")\n",
        "pyro_data"
      ]
    },
    {
      "cell_type": "markdown",
      "metadata": {
        "id": "_SuDxEwmAcce"
      },
      "source": [
        "Визуализируем апостериорные распределения всех латентных переменных. \"Качество\" формы графиков зависит, в том числе, от числа семплов. Увеличение количества семплов приводит к формированию более точных распределений, но и увеличивает расчётное время."
      ]
    },
    {
      "cell_type": "code",
      "execution_count": null,
      "metadata": {
        "id": "NfsG4pGBDgn7"
      },
      "outputs": [],
      "source": [
        "az.plot_posterior(pyro_data);"
      ]
    },
    {
      "cell_type": "markdown",
      "metadata": {
        "id": "skECbkL88QP9"
      },
      "source": [
        "Визуализируем априорные и апостериорные распределения для каждой латентной переменной и сравним их."
      ]
    },
    {
      "cell_type": "code",
      "execution_count": null,
      "metadata": {
        "id": "02WtZmdnWTGc"
      },
      "outputs": [],
      "source": [
        "axes = az.plot_density(\n",
        "    [pyro_data.posterior, pyro_data.prior],\n",
        "    data_labels=[\"Posterior\", \"Prior\"],\n",
        "    shade=0.2\n",
        ")"
      ]
    },
    {
      "cell_type": "markdown",
      "metadata": {
        "id": "9zLkQhIcAloP"
      },
      "source": [
        "Визуализируем семейство распределений латентных переменных, полученных моделью, и сравним их с эмпирическим распределением, сформированным из тестового датасета."
      ]
    },
    {
      "cell_type": "code",
      "execution_count": null,
      "metadata": {
        "id": "luBhTVF5FYPn"
      },
      "outputs": [],
      "source": [
        "az.plot_ppc(pyro_data);"
      ]
    },
    {
      "cell_type": "markdown",
      "metadata": {
        "id": "NV6yJ4sqBlTB"
      },
      "source": [
        "Посмотрим на апостериорные распределения латентных переменных (весов модели) всесте с \"трассой\" -- набором сэмплов, полученных в процессе выполнения инференса методом MCMC."
      ]
    },
    {
      "cell_type": "code",
      "execution_count": null,
      "metadata": {
        "id": "Ln03IY44GkDX"
      },
      "outputs": [],
      "source": [
        "az.plot_trace(pyro_data)\n",
        "plt.gcf().tight_layout()"
      ]
    },
    {
      "cell_type": "markdown",
      "metadata": {
        "id": "1nLm4F3MB6Em"
      },
      "source": [
        "Визуализируем распределение переменной статуса кредита (целевая бинарная переменная, показывающая, возвращен ли клиентом кредит) для одного случайного клиента. Красной пунктирной линией показано истинное значение целевой переменной у данного объекта."
      ]
    },
    {
      "cell_type": "code",
      "execution_count": null,
      "metadata": {
        "id": "wB-RlaVqGmby"
      },
      "outputs": [],
      "source": [
        "df_predict_one = df_predict.sample(n=1)\n",
        "\n",
        "posterior_predictive_one = Predictive(model, posterior_samples)(\n",
        "    convert_df_to_tensors(df_predict_one))\n",
        "ser = pd.Series(\n",
        "    posterior_predictive_one[\"loan_status\"].detach().numpy().squeeze()\n",
        ")\n",
        "print(\"Ground True value: \", df_predict_one[\"loan_status\"].values.squeeze())\n",
        "print(\"Probability of label to be one: \", ser.mean())\n",
        "print(\"Distribution:\")\n",
        "result = plt.hist(ser, color='c', edgecolor='k', alpha=0.65)\n",
        "plt.axvline(ser.mean(), color='r', linestyle='dashed', linewidth=1)"
      ]
    },
    {
      "cell_type": "markdown",
      "metadata": {
        "id": "cZdk5AZp8i0K"
      },
      "source": [
        "Сформируем фрагмент датафрейма с результатами предсказаний."
      ]
    },
    {
      "cell_type": "code",
      "execution_count": null,
      "metadata": {
        "id": "d66E998oMWXI"
      },
      "outputs": [],
      "source": [
        "df_result = df_predict.copy()"
      ]
    },
    {
      "cell_type": "code",
      "execution_count": null,
      "metadata": {
        "id": "jFPDxwthPfTm"
      },
      "outputs": [],
      "source": [
        "pred_mean = posterior_predictive['loan_status'].numpy().mean(axis=0)\n",
        "pred_std  = posterior_predictive['loan_status'].numpy().std(axis=0)\n",
        "\n",
        "df_result[\"loan_status_pred\"] = [\n",
        "    f\"{mean:.2f} ± {std:.2f}\" for mean, std in zip(pred_mean, pred_std)\n",
        "]\n",
        "\n",
        "loan_mean = posterior_predictive['loan_int_rate'].numpy().mean(axis=0)\n",
        "loan_std  = posterior_predictive['loan_int_rate'].numpy().std(axis=0)\n",
        "\n",
        "df_result[\"loan_int_rate_pred\"] = [\n",
        "    f\"{mean:.2f} ± {std:.2f}\" for mean, std in zip(loan_mean, loan_std)\n",
        "]\n",
        "\n",
        "df_result[[\"loan_int_rate\",\n",
        "           \"loan_int_rate_pred\",\n",
        "           \"loan_status\",\n",
        "           \"loan_status_pred\"]]"
      ]
    },
    {
      "cell_type": "markdown",
      "metadata": {
        "id": "EPbXUpiqB_Ik"
      },
      "source": [
        "Данные результаты позволяют получить представление о качестве работы модели."
      ]
    },
    {
      "cell_type": "markdown",
      "metadata": {
        "id": "i7aepzliCeav"
      },
      "source": [
        "### Индивидуальное задание\n",
        "\n",
        "Опираясь на представленное исследование и используя его в качестве образца, **выполните аналогичные действия с выбранным Вами датасетом**.\n",
        "\n",
        "В процессе работы:\n",
        "\n",
        "1. Выберите датасет, содержащий табличные данные. Датасеты можно найти, например, на [Kaggle](https://www.kaggle.com/datasets) и [UC Irvine Machine Learning Repository](https://archive.ics.uci.edu/ml/index.php). __Хотя бы один столбец__ датасета (*количественный!*) должен содержать пропуски.\n",
        "2. Выполните __разведочный анализ__ датасета, выполните требуемые __преобразования признаков__.\n",
        "3. Разделите датасет на __обучающую__ и __тестовую__ части.\n",
        "4. Поставьте задачу __классификации__ или __регрессии__ для данных из датасета.\n",
        "5. Составьте __байесовскую модель__ для решения поставленной задачи и определения пропущенных данных. Запишите совместное распределение наблюдаемых и латентных переменных (данных и весов соответственно), выражения правдоподобия и априорных распределений.\n",
        "6. __Запрограммируйте__ модель с использованием библиотеки Pyro. Получите изображение __графической вероятностной модели__, сформированной Pyro.\n",
        "7. __Обучите__ вероятностную модель с использованием MCMC.\n",
        "8. __Визуализируйте__ априорные и апостериорные распределения весов модели, а также \"трассы\", полученные в процессе сэмплирования. Критически оцените полученный результат.\n",
        "9. __Визуализируйте__ эмпирические распределения наблюдаемых переменных из тестовой части датасета и сравните их с семейством предиктивных распределений, полученных моделью. Критически оцените полученный результат.\n",
        "10. Для произвольного объекта из тестовой части датасета получите __предиктивное распределение__ наблюдаемых переменных и соотнесите его с точным значением соответствующих параметров рассматриваемого объекта.\n",
        "11. Выведите фрагмент тестовой части датасета с добавленными столбцами, содержащими __результаты предсказания__. Критически оцените полученные результаты.\n",
        "12. Сделайте __выводы__ по работе."
      ]
    },
    {
      "cell_type": "markdown",
      "metadata": {
        "id": "MCGNUNERI7S0"
      },
      "source": [
        "### Список вопросов для подготовки к отчету\n",
        "\n",
        "1. Основные понятия теории вероятностей: плотность распределения, правило нормировки, совместная плотность вероятности, математическое ожидание, дисперсия, условная плотность вероятности. Условная независимость.\n",
        "\n",
        "* **Правило нормировки**  — это условие, требующее, чтобы сумма (или интеграл) функции вероятности или плотности вероятности по всем возможным значениям случайной величины был равен единице.\n",
        "* **Плотность распределения** (плотность вероятности) — это функция f(x), характеризующая распределение непрерывной случайной величины \n",
        "X и удовлетворяющая следующим условиям:\n",
        "* * Неотрицательность\n",
        "* * Условие нормировки\n",
        "* * Вероятность попадания в интервал\n",
        "\n",
        "    Плотность распределения является производной функцией распределения\n",
        "\n",
        "**Совместная плотность вероятности** — это функция f(x,y), описывающая распределение пары (или большего набора) непрерывных случайных величин (X,Y) и удовлетворяющая следующим условиям:\n",
        "* * Неотрицательность\n",
        "* * Условие нормировки\n",
        "* * Вероятность попадания в область\n",
        "    \n",
        "    Все аналогично плотности распределения, с учетом кол-ва интегралов, соответствующего кол-ву переменных.\n",
        "\n",
        "**Условная независимость** — это свойство, означающее, что две случайные величины X и Y становятся независимыми при фиксированном значении третьей случайной величины Z.\n",
        "\n",
        "---\n",
        "2. Правило произведения для плотности совместного распределения.\n",
        "\n",
        "\n",
        "---\n",
        "3. Правило суммирования. Маргинализация случайных величин.\n",
        "4. Обращение условного распределения. Теорема Байеса.\n",
        "5. Сущность байесовского распределения. Примеры.\n",
        "6. Понятие графических вероятностных моделей. Представление вероятностных отношений в виде графа. Байесовская сеть.\n",
        "7. Наблюдаемые и латентные величины, их обозначения в графических моделях.\n",
        "8. Понятие d-разделимости. Последовательная, расходящаяся и сходящаяся связи. Explaining away.\n",
        "9. Нотация \"планок\" в графических моделях. Примеры.\n",
        "10. Основные понятия классического машинного обучения: объекты, признаки, метки, целевая переменная, модель, функции ошибки, эмпирический риск. Принцип минимума эмпирического риска.\n",
        "11. Классический и байесовский подходы к машинному обучению, их сравнительный анализ. Пример линейной регрессии с точки зрения обоих подходов.\n",
        "12. Минимизация эмпирического риска как максимизация правдоподобия. Принципы максимальных правдоподобия и апостериорной вероятности.\n",
        "13. Частотный и байесовский подходы к описанию событий в ML.\n",
        "14. Постановка задачи и основная проблема байесовского инференса, способы её решения. Сопряженные распределения.\n",
        "15. Методы Монте-Карло, их эффективность при решении интегралов. Сравнение с аналитическим и численным решениями. Базовый эстиматор Монте-Карло.\n",
        "16. Понятие семплирования случайной величины. Способы семплирования. Теорема об обратной функции распределения и её применение для семплирования.\n",
        "17. Семплирование с отклонением (Rejection sampling): алгоритм, его корректность и применимость. Свойства семплирования с отклонением.\n",
        "18. Семплирование по важности (Importance sampling): алгоритм, его корректность и применимость. Forward sampling.\n",
        "19. Фреймворк для вероятностного программирования Pyro. Краткая характеристика, построение вероятностных моделей с его помощью.\n",
        "20. Сущность и реализация сторонних эффектов функций в Pyro. Понятие \"трасс\". Библиотека Poutine. Обработчики сторонных эффектов (handlers). Примеры.\n",
        "21. Сущность и пробема байесовского вывода и способы её решения.\n",
        "22. Марковские цепи Монте-карло. Свойство Маркова. Представление марковской цепи в виде графа. Вероятности переходов.\n",
        "23. Предельное распределение марковской цепи.\n",
        "24. Свойства несводимости (irreducibility) и периодичности (periodicity). Свойство стационарности. Состояние равновесия.\n",
        "25. Фундаментальная теорема марковских цепей и её применение.\n",
        "26. Обратимость марковской цепи. Условия детального баланса.\n",
        "27. Алгоритм Метрополиса-Гастингса: сущность и принцип работы. Сравнение с семплированием с отклонением (rejection sampling).\n",
        "28. Алгоритм Метрополиса-Гастингса как марковская цепь. Доказательство сходимости цепи к целевому распределению.\n",
        "29. Обработка нормирующей константы в алгоритме Метрополиса-Гастингса. Этап «розжига» алгоритма.\n",
        "30. Корреляция семплов в алгоритме Метрополиса-Гастингса. Понятие лага (lag). Ограничения алгоритма Метрополиса-Гастингса.\n",
        "31. Подход статистической физики к задаче семплирования. Термодинамическая система. Микросостояние. Канонический ансамбль.\n",
        "32. Каноническое распределение Гиббса. Функция Гамильтона. Подход к семплированию из целевого распределения.\n",
        "33. Подходы к описанию динамики термодинамической системы. Уравнения Гамильтона.\n",
        "34. Соответствие подходов Ньютона и Гамильтона к описанию динамики системы на примере.\n",
        "35. Свойства механики Гамильтона. Обратимость, сохранение гамильтониана, сохранение фазового объёма. Теорема Лиувилля.\n",
        "36. Микроканоническое распределение.\n",
        "37. Численное решение уравнений Гамильтона. Методы Эйлера и Leapfrog.\n",
        "38. Организация семплирования из целевого распределения, формирование канонического ансамбля для решения этой задачи. Вид канонического распределения.\n",
        "39. Алгоритм HMC, основные шаги. Сравнение с алгоритмом Метрополиса-Гастингса. Недостатки алгоритма.\n",
        "40. Динамические алгоритмы HMC: No-U-Turn Sampler. Основные идеи."
      ]
    },
    {
      "cell_type": "markdown",
      "metadata": {
        "id": "WC5HVjXoJd2v"
      },
      "source": [
        "### Список литературы для подготовки к отчету\n",
        "\n",
        "1. Дауни, А. Б. Байесовские модели / А. Б. Дауни ; перевод с английского В. А. Яроцкого. — Москва : ДМК Пресс, 2018. — 182 с. URL: https://e.lanbook.com/book/131695 (дата обращения: 13.02.2024). — Режим доступа: для авториз. пользователей.\n",
        "\n",
        "2. Barber, D. Bayesian Reasoning and Machine Learning / D. Barber // Cambridge University Press, 2012. URL: [http://www0.cs.ucl.ac.uk/staff/d.barber/brml/](http://www0.cs.ucl.ac.uk/staff/d.barber/brml/) (дата обращения: 13.02.2024).\n",
        "\n",
        "3. Bishop, M.C. Pattern Recognition and Machine Learning / M.C. Bishop // Springer, 2006. — 738 с. URL: [https://www.microsoft.com/en-us/research/uploads/prod/2006/01/Bishop-Pattern-Recognition-and-Machine-Learning-2006.pdf](https://www.microsoft.com/en-us/research/uploads/prod/2006/01/Bishop-Pattern-Recognition-and-Machine-Learning-2006.pdf) (дата обращения: 13.02.2024).\n",
        "\n",
        "4. Pyro: официальная документация. 2024. URL: [https://pyro4ci.readthedocs.io/en/latest/](https://pyro4ci.readthedocs.io/en/latest/) (дата обращения: 13.02.2024).\n",
        "\n",
        "5. Guilhoto, L. F. Applying Markov Chains to Monte Carlo Integration / Guilhoto, L. F. -- 2017. -- 16 с. URL: [http://math.uchicago.edu/~may/REU2017/REUPapers/Guilhoto.pdf](http://math.uchicago.edu/~may/REU2017/REUPapers/Guilhoto.pdf) (дата обращения: 05.03.2024).\n",
        "\n",
        "6. Betancourt, M. A Conceptual Introduction to Hamiltonian Monte Carlo / M. Betancourt // arXiv.org, 2018. URL: [https://arxiv.org/pdf/1701.02434.pdf](https://arxiv.org/pdf/1701.02434.pdf) (дата обращения: 05.03.2024).\n",
        "\n",
        "7. Hoffman, M.D. The No-U-Turn Sampler: Adaptively Setting Path Lengths in Hamiltonian Monte Carlo / M.D. Hoffman, A. Gelman // arXiv.org, 2011. URL: [https://arxiv.org/pdf/1111.4246.pdf](https://arxiv.org/pdf/1111.4246.pdf) (дата обращения: 05.03.2024)."
      ]
    }
  ],
  "metadata": {
    "colab": {
      "provenance": []
    },
    "kernelspec": {
      "display_name": "venv",
      "language": "python",
      "name": "python3"
    },
    "language_info": {
      "codemirror_mode": {
        "name": "ipython",
        "version": 3
      },
      "file_extension": ".py",
      "mimetype": "text/x-python",
      "name": "python",
      "nbconvert_exporter": "python",
      "pygments_lexer": "ipython3",
      "version": "3.13.0"
    }
  },
  "nbformat": 4,
  "nbformat_minor": 0
}
